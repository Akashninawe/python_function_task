{
 "cells": [
  {
   "cell_type": "markdown",
   "metadata": {},
   "source": [
    "# Function"
   ]
  },
  {
   "cell_type": "code",
   "execution_count": 2,
   "metadata": {},
   "outputs": [
    {
     "name": "stdout",
     "output_type": "stream",
     "text": [
      "a1 = 10,b1 = 5,c1 = 3\n",
      "a+b+c = 18\n"
     ]
    }
   ],
   "source": [
    "def addvalue(a,b,c):\n",
    "    print(f'a1 = {a},b1 = {b},c1 = {c}')\n",
    "    print(f'a+b+c = {a+b+c}')\n",
    "\n",
    "addvalue(10,5,3)"
   ]
  },
  {
   "cell_type": "code",
   "execution_count": 4,
   "metadata": {},
   "outputs": [
    {
     "name": "stdout",
     "output_type": "stream",
     "text": [
      "x1 = 50,y1 = 3,z1 = 7\n",
      "x-y-z = 40\n"
     ]
    }
   ],
   "source": [
    "def subvalue(x,y,z):\n",
    "    print(f'x1 = {x},y1 = {y},z1 = {z}')\n",
    "    print(f'x-y-z = {x-y-z}')\n",
    "\n",
    "subvalue(50,3,7)"
   ]
  },
  {
   "cell_type": "markdown",
   "metadata": {},
   "source": [
    "# comparison function"
   ]
  },
  {
   "cell_type": "code",
   "execution_count": 10,
   "metadata": {},
   "outputs": [
    {
     "name": "stdout",
     "output_type": "stream",
     "text": [
      "num1 > num2 = 30>55 = False\n"
     ]
    }
   ],
   "source": [
    "def compare(num1,num2):\n",
    "    result = num1 > num2\n",
    "    print (f'num1 > num2 = {num1}>{num2} = {result}')\n",
    "\n",
    "compare(30,55)"
   ]
  },
  {
   "cell_type": "code",
   "execution_count": 11,
   "metadata": {},
   "outputs": [
    {
     "name": "stdout",
     "output_type": "stream",
     "text": [
      "num1 > num2 = 100>40 = True\n"
     ]
    }
   ],
   "source": [
    "def compare(num1,num2):\n",
    "    result = num1 > num2\n",
    "    print(f'num1 > num2 = {num1}>{num2} = {result}')\n",
    "compare(100,40)"
   ]
  },
  {
   "cell_type": "markdown",
   "metadata": {},
   "source": [
    "# return function"
   ]
  },
  {
   "cell_type": "code",
   "execution_count": 15,
   "metadata": {},
   "outputs": [
    {
     "name": "stdout",
     "output_type": "stream",
     "text": [
      "p1 / p2 = 30/20= 1.5\n",
      "output=1.5\n"
     ]
    }
   ],
   "source": [
    "def check(p1,p2):\n",
    "    result = p1/p2\n",
    "    print(f'p1 / p2 = {p1}/{p2}= {result}')\n",
    "    return result\n",
    "\n",
    "output = check(30,20)\n",
    "print(f'output={output}')"
   ]
  },
  {
   "cell_type": "code",
   "execution_count": 17,
   "metadata": {},
   "outputs": [
    {
     "name": "stdout",
     "output_type": "stream",
     "text": [
      "val1 > val2 = 100>70 = True\n",
      "output = True\n"
     ]
    }
   ],
   "source": [
    "def check(val1,val2):\n",
    "    result = val1 > val2\n",
    "    print(f'val1 > val2 = {val1}>{val2} = {result}')\n",
    "    return result\n",
    "output = check(100,70)\n",
    "print(f'output = {output}')"
   ]
  }
 ],
 "metadata": {
  "kernelspec": {
   "display_name": "Python 3",
   "language": "python",
   "name": "python3"
  },
  "language_info": {
   "codemirror_mode": {
    "name": "ipython",
    "version": 3
   },
   "file_extension": ".py",
   "mimetype": "text/x-python",
   "name": "python",
   "nbconvert_exporter": "python",
   "pygments_lexer": "ipython3",
   "version": "3.12.4"
  }
 },
 "nbformat": 4,
 "nbformat_minor": 2
}
